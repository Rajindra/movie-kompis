{
  "cells": [
    {
      "cell_type": "markdown",
      "metadata": {
        "id": "view-in-github",
        "colab_type": "text"
      },
      "source": [
        "<a href=\"https://colab.research.google.com/github/Rajindra/movie-kompis/blob/main/notebooks/Filmkompis.ipynb\" target=\"_parent\"><img src=\"https://colab.research.google.com/assets/colab-badge.svg\" alt=\"Open In Colab\"/></a>"
      ]
    },
    {
      "cell_type": "code",
      "source": [
        "!git clone https://github.com/Rajindra/movie-kompis\n",
        "%cd movie-kompis\n"
      ],
      "metadata": {
        "colab": {
          "base_uri": "https://localhost:8080/"
        },
        "id": "xIR6z5JW7ZNX",
        "outputId": "1bcaa6d0-b653-44e5-e0fc-4babfabdd07b"
      },
      "execution_count": 8,
      "outputs": [
        {
          "output_type": "stream",
          "name": "stdout",
          "text": [
            "Cloning into 'movie-kompis'...\n",
            "remote: Enumerating objects: 33, done.\u001b[K\n",
            "remote: Counting objects: 100% (33/33), done.\u001b[K\n",
            "remote: Compressing objects: 100% (24/24), done.\u001b[K\n",
            "remote: Total 33 (delta 7), reused 25 (delta 4), pack-reused 0 (from 0)\u001b[K\n",
            "Receiving objects: 100% (33/33), 15.45 MiB | 20.33 MiB/s, done.\n",
            "Resolving deltas: 100% (7/7), done.\n",
            "/content/movie-kompis\n"
          ]
        }
      ]
    },
    {
      "cell_type": "code",
      "source": [
        "!pip install -r requirements.txt"
      ],
      "metadata": {
        "id": "yzC1nHpE-Ail"
      },
      "execution_count": 9,
      "outputs": []
    },
    {
      "cell_type": "code",
      "source": [
        "import pandas as pd\n",
        "import time\n",
        "\n",
        "# Load existing ratings\n",
        "ratings = pd.read_csv('data/kids_ratings.csv')\n",
        "\n",
        "# Define your favorite movie IDs\n",
        "your_movie_ids = [202517, 364, 131834, 206959, 6377]\n",
        "\n",
        "# Define your new userId (max + 1)\n",
        "new_user_id = ratings['userId'].max() + 1\n",
        "\n",
        "# Create new rating entries — assign 5.0 to all\n",
        "your_ratings = pd.DataFrame({\n",
        "    'userId': [new_user_id] * len(your_movie_ids),\n",
        "    'movieId': your_movie_ids,\n",
        "    'rating': [5.0] * len(your_movie_ids),\n",
        "    'timestamp': [int(time.time())] * len(your_movie_ids)\n",
        "})\n",
        "\n",
        "# Append to ratings\n",
        "ratings = pd.concat([ratings, your_ratings], ignore_index=True)\n",
        "\n",
        "# Save updated ratings\n",
        "ratings.to_csv('data/kids_ratings.csv', index=False)\n",
        "print(f\"✅ Added ratings for user {new_user_id} and saved to data/kids_ratings.csv\")\n"
      ],
      "metadata": {
        "colab": {
          "base_uri": "https://localhost:8080/"
        },
        "id": "W4LWS4OgCcMY",
        "outputId": "0e4867b2-0ce4-4d64-e45e-c48db087fe45"
      },
      "execution_count": 40,
      "outputs": [
        {
          "output_type": "stream",
          "name": "stdout",
          "text": [
            "✅ Added ratings for user 162542 and saved to data/kids_ratings.csv\n"
          ]
        }
      ]
    },
    {
      "cell_type": "code",
      "source": [
        "# Reload updated ratings and movies\n",
        "ratings = pd.read_csv('data/kids_ratings.csv')\n",
        "movies = pd.read_csv('data/kids_movies.csv')\n",
        "\n",
        "# Get the new userId (you just added)\n",
        "new_user_id = ratings['userId'].max()\n",
        "\n",
        "# Filter only your ratings\n",
        "your_rows = ratings[ratings['userId'] == new_user_id]\n",
        "\n",
        "# Merge with movie titles\n",
        "your_movies = your_rows.merge(movies, on='movieId', how='left')\n",
        "\n",
        "# Print full details\n",
        "print(\"🎬 Your Ratings:\")\n",
        "print(your_movies[['userId', 'movieId', 'title', 'rating', 'timestamp']])\n"
      ],
      "metadata": {
        "colab": {
          "base_uri": "https://localhost:8080/"
        },
        "id": "FafKWKDqEBwS",
        "outputId": "de5e0650-243d-4cfb-d6f9-cf610df80c43"
      },
      "execution_count": 41,
      "outputs": [
        {
          "output_type": "stream",
          "name": "stdout",
          "text": [
            "🎬 Your Ratings:\n",
            "   userId  movieId                                        title  rating  \\\n",
            "0  162542   202517  Kung Fu Panda: Secrets of the Scroll (2016)     5.0   \n",
            "1  162542      364                        Lion King, The (1994)     5.0   \n",
            "2  162542   131834               The Sound of Music Live (2013)     5.0   \n",
            "3  162542   206959                             Frozen II (2019)     5.0   \n",
            "4  162542     6377                          Finding Nemo (2003)     5.0   \n",
            "\n",
            "    timestamp  \n",
            "0  1745435373  \n",
            "1  1745435373  \n",
            "2  1745435373  \n",
            "3  1745435373  \n",
            "4  1745435373  \n"
          ]
        }
      ]
    },
    {
      "cell_type": "code",
      "source": [
        "import pandas as pd\n",
        "\n",
        "# Load kids movie data\n",
        "movies = pd.read_csv('data/kids_movies.csv')\n",
        "ratings = pd.read_csv('data/kids_ratings.csv')\n",
        "\n",
        "print(\"🎬 Movies sample:\")\n",
        "print(movies.head())\n",
        "\n",
        "print(\"⭐ Ratings sample:\")\n",
        "print(ratings.head())\n"
      ],
      "metadata": {
        "colab": {
          "base_uri": "https://localhost:8080/"
        },
        "id": "4Go-Ykpe-Kns",
        "outputId": "0dad45d3-1f4c-4229-c636-8ef0f9304c90"
      },
      "execution_count": 42,
      "outputs": [
        {
          "output_type": "stream",
          "name": "stdout",
          "text": [
            "🎬 Movies sample:\n",
            "   movieId                title                                       genres\n",
            "0        1     Toy Story (1995)  Adventure|Animation|Children|Comedy|Fantasy\n",
            "1        2       Jumanji (1995)                   Adventure|Children|Fantasy\n",
            "2        8  Tom and Huck (1995)                           Adventure|Children\n",
            "3       13         Balto (1995)                 Adventure|Animation|Children\n",
            "4       27  Now and Then (1995)                               Children|Drama\n",
            "⭐ Ratings sample:\n",
            "   userId  movieId  rating   timestamp\n",
            "0       1     2161     3.5  1147868609\n",
            "1       1     6377     4.0  1147868469\n",
            "2       1     8360     4.0  1147868682\n",
            "3       2        1     3.5  1141415820\n",
            "4       2      364     4.5  1141417077\n"
          ]
        }
      ]
    },
    {
      "cell_type": "code",
      "execution_count": 43,
      "metadata": {
        "colab": {
          "base_uri": "https://localhost:8080/"
        },
        "id": "s0aQD4wPplFu",
        "outputId": "d75483c7-e85e-40c3-dcc2-7fe498b7da62"
      },
      "outputs": [
        {
          "output_type": "stream",
          "name": "stdout",
          "text": [
            "👤 Unique users: 148392, 🎥 Unique movies: 2866\n"
          ]
        }
      ],
      "source": [
        "# Step 1: Map userId and movieId to indices\n",
        "\n",
        "import torch\n",
        "from sklearn.model_selection import train_test_split\n",
        "\n",
        "# Map original IDs to index-based IDs\n",
        "user_map = {uid: i for i, uid in enumerate(ratings['userId'].unique())}\n",
        "movie_map = {mid: i for i, mid in enumerate(ratings['movieId'].unique())}\n",
        "reverse_movie_map = {v: k for k, v in movie_map.items()}\n",
        "\n",
        "ratings['userId'] = ratings['userId'].map(user_map)\n",
        "ratings['movieId'] = ratings['movieId'].map(movie_map)\n",
        "\n",
        "n_users = len(user_map)\n",
        "n_movies = len(movie_map)\n",
        "\n",
        "print(f\"👤 Unique users: {n_users}, 🎥 Unique movies: {n_movies}\")\n"
      ]
    },
    {
      "cell_type": "code",
      "source": [
        "# Step 2: Split and convert to tensors\n",
        "\n",
        "train_df, test_df = train_test_split(ratings, test_size=0.2, random_state=42)\n",
        "\n",
        "train_users = torch.tensor(train_df['userId'].values, dtype=torch.long)\n",
        "train_movies = torch.tensor(train_df['movieId'].values, dtype=torch.long)\n",
        "train_ratings = torch.tensor(train_df['rating'].values, dtype=torch.float)\n",
        "\n",
        "test_users = torch.tensor(test_df['userId'].values, dtype=torch.long)\n",
        "test_movies = torch.tensor(test_df['movieId'].values, dtype=torch.long)\n",
        "test_ratings = torch.tensor(test_df['rating'].values, dtype=torch.float)\n"
      ],
      "metadata": {
        "id": "OHT__YqV7X9u"
      },
      "execution_count": 44,
      "outputs": []
    },
    {
      "cell_type": "code",
      "source": [
        "# Step 3: Prepare the DataLoader\n",
        "\n",
        "from torch.utils.data import DataLoader, TensorDataset\n",
        "\n",
        "batch_size = 1024\n",
        "\n",
        "# Create PyTorch datasets\n",
        "train_dataset = TensorDataset(train_users, train_movies, train_ratings)\n",
        "test_dataset = TensorDataset(test_users, test_movies, test_ratings)\n",
        "\n",
        "# Create DataLoaders\n",
        "train_loader = DataLoader(train_dataset, batch_size=batch_size, shuffle=True)\n",
        "test_loader = DataLoader(test_dataset, batch_size=batch_size, shuffle=False)"
      ],
      "metadata": {
        "id": "g50XnCJB_O5s"
      },
      "execution_count": 45,
      "outputs": []
    },
    {
      "cell_type": "code",
      "source": [
        "# Step 4: Define the Matrix Factorization Model\n",
        "\n",
        "import torch.nn as nn\n",
        "\n",
        "class MatrixFactorization(nn.Module):\n",
        "    def __init__(self, n_users, n_movies, n_factors=64):\n",
        "        super(MatrixFactorization, self).__init__()\n",
        "        self.user_embedding = nn.Embedding(n_users, n_factors)\n",
        "        self.movie_embedding = nn.Embedding(n_movies, n_factors)\n",
        "        self.user_bias = nn.Embedding(n_users, 1)\n",
        "        self.movie_bias = nn.Embedding(n_movies, 1)\n",
        "        self.global_bias = nn.Parameter(torch.zeros(1))\n",
        "\n",
        "    def forward(self, user, movie):\n",
        "        u_emb = self.user_embedding(user)\n",
        "        m_emb = self.movie_embedding(movie)\n",
        "        dot = (u_emb * m_emb).sum(1)\n",
        "        bias = self.user_bias(user).squeeze() + self.movie_bias(movie).squeeze() + self.global_bias\n",
        "        return dot + bias\n",
        "\n",
        "# Move model to GPU if available\n",
        "device = torch.device(\"cuda\" if torch.cuda.is_available() else \"cpu\")\n",
        "model = MatrixFactorization(n_users, n_movies).to(device)"
      ],
      "metadata": {
        "id": "Jld1W5Db7XJD"
      },
      "execution_count": 46,
      "outputs": []
    },
    {
      "cell_type": "code",
      "source": [
        "# Step 5: Train the Matrix Factorization Model\n",
        "\n",
        "import torch.optim as optim\n",
        "\n",
        "loss_fn = nn.MSELoss()\n",
        "optimizer = optim.Adam(model.parameters(), lr=0.001)\n",
        "\n",
        "n_epochs = 10\n",
        "\n",
        "for epoch in range(n_epochs):\n",
        "    model.train()\n",
        "    total_loss = 0\n",
        "\n",
        "    for users, movies, ratings_batch in train_loader:\n",
        "        users = users.to(device)\n",
        "        movies = movies.to(device)\n",
        "        ratings_batch = ratings_batch.to(device)\n",
        "\n",
        "        optimizer.zero_grad()\n",
        "        preds = model(users, movies)\n",
        "        loss = loss_fn(preds, ratings_batch)\n",
        "        loss.backward()\n",
        "        optimizer.step()\n",
        "\n",
        "        total_loss += loss.item()\n",
        "\n",
        "    avg_loss = total_loss / len(train_loader)\n",
        "    print(f\"📘 Epoch {epoch+1}/{n_epochs}, Loss: {avg_loss:.4f}\")\n",
        "\n"
      ],
      "metadata": {
        "colab": {
          "base_uri": "https://localhost:8080/"
        },
        "id": "QOSJ5owz-36w",
        "outputId": "754cb998-2d45-4979-bb8b-7893e6acc94f"
      },
      "execution_count": 47,
      "outputs": [
        {
          "output_type": "stream",
          "name": "stdout",
          "text": [
            "📘 Epoch 1/10, Loss: 52.4711\n",
            "📘 Epoch 2/10, Loss: 20.7680\n",
            "📘 Epoch 3/10, Loss: 9.7546\n",
            "📘 Epoch 4/10, Loss: 5.4050\n",
            "📘 Epoch 5/10, Loss: 3.4146\n",
            "📘 Epoch 6/10, Loss: 2.3722\n",
            "📘 Epoch 7/10, Loss: 1.7550\n",
            "📘 Epoch 8/10, Loss: 1.3406\n",
            "📘 Epoch 9/10, Loss: 1.0457\n",
            "📘 Epoch 10/10, Loss: 0.8499\n"
          ]
        }
      ]
    },
    {
      "cell_type": "code",
      "source": [
        "# Step 6: Make Movie Recommendations\n",
        "\n",
        "def recommend_movies(user_id_original, top_n=5):\n",
        "    # Check if user exists\n",
        "    if user_id_original not in user_map:\n",
        "        print(\"❌ User not found.\")\n",
        "        return []\n",
        "\n",
        "    # Map user ID\n",
        "    user_id = user_map[user_id_original]\n",
        "    user_tensor = torch.tensor([user_id] * n_movies).to(device)\n",
        "    movie_tensor = torch.arange(n_movies).to(device)\n",
        "\n",
        "    # Predict\n",
        "    model.eval()\n",
        "    with torch.no_grad():\n",
        "        preds = model(user_tensor, movie_tensor).cpu().numpy().flatten()\n",
        "\n",
        "    # Top-N predictions\n",
        "    top_indices = preds.argsort()[::-1][:top_n]\n",
        "    top_movie_ids = [int(reverse_movie_map[int(i)]) for i in top_indices]\n",
        "\n",
        "    # Fetch titles safely\n",
        "    titles = []\n",
        "    for mid in top_movie_ids:\n",
        "        mid = int(mid)\n",
        "        title_row = movies[movies['movieId'] == mid]\n",
        "        if not title_row.empty:\n",
        "            title = title_row.iloc[0]['title']\n",
        "            titles.append(str(title))  # Ensure it's a string\n",
        "\n",
        "    return titles\n"
      ],
      "metadata": {
        "id": "6K1Le6Ns-4CR"
      },
      "execution_count": 32,
      "outputs": []
    },
    {
      "cell_type": "code",
      "source": [
        "import pandas as pd\n",
        "\n",
        "# Re-load the original CSV to ensure all types are clean\n",
        "movies = pd.read_csv('data/kids_movies.csv')\n",
        "\n",
        "original_user_id = 162542  # Replace with valid user ID from your dataset\n",
        "\n",
        "recommendations = recommend_movies(original_user_id, top_n=5)\n",
        "\n",
        "print(\"🎯 Recommended Kids Movies:\")\n",
        "for title in recommendations:\n",
        "    print(\" -\", title)\n"
      ],
      "metadata": {
        "colab": {
          "base_uri": "https://localhost:8080/"
        },
        "id": "YwTrZD38_jan",
        "outputId": "a13558e5-728c-4934-a30e-1bfe7e0f3312"
      },
      "execution_count": 48,
      "outputs": [
        {
          "output_type": "stream",
          "name": "stdout",
          "text": [
            "🎯 Recommended Kids Movies:\n",
            " - Rascals on the Road (2006)\n",
            " - Treasure of the Hidden Planet (1997)\n",
            " - Pokémon the Movie: Genesect and the Legend Awakened (2013)\n",
            " - Rabbit Punch (1948)\n",
            " - Balloon Farm (1999)\n"
          ]
        }
      ]
    }
  ],
  "metadata": {
    "accelerator": "GPU",
    "colab": {
      "gpuType": "T4",
      "provenance": [],
      "include_colab_link": true
    },
    "kernelspec": {
      "display_name": "Python 3",
      "name": "python3"
    },
    "language_info": {
      "name": "python"
    }
  },
  "nbformat": 4,
  "nbformat_minor": 0
}